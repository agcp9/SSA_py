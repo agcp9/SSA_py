{
  "cells": [
    {
      "cell_type": "markdown",
      "metadata": {
        "id": "xLL-wZF6rkK-"
      },
      "source": [
        "Tokenizar Texto"
      ]
    },
    {
      "cell_type": "code",
      "execution_count": 6,
      "metadata": {
        "colab": {
          "base_uri": "https://localhost:8080/"
        },
        "id": "sHlC1Jyorflk",
        "outputId": "9fef1862-7ec8-4c90-9e91-9a4664de1070"
      },
      "outputs": [
        {
          "name": "stdout",
          "output_type": "stream",
          "text": [
            "Finanzas - Wikipedia, la enciclopedia libredocument.documentElement.className=\"client-js\";(function(){var cookie=document.cookie.match(/(?:^|; )eswikimwclientprefs=([^;]+)/);if(cookie){var featureName=cookie[1];document.documentElement.className=document.documentElement.className.replace(featureName+'-enabled',featureName+'-disabled');}}());RLCONF={\"wgBreakFrames\":false,\"wgSeparatorTransformTable\":[\",\\t.\",\" \\t,\"],\"wgDigitTransformTable\":[\"\",\"\"],\"wgDefaultDateFormat\":\"dmy\",\"wgMonthNames\":[\"\",\"enero\",\"febrero\",\"marzo\",\"abril\",\"mayo\",\"junio\",\"julio\",\"agosto\",\"septiembre\",\"octubre\",\"noviembre\",\"diciembre\"],\"wgRequestId\":\"f44857e1-6f97-43f8-84e4-cf93c0d22437\",\"wgCSPNonce\":false,\"wgCanonicalNamespace\":\"\",\"wgCanonicalSpecialPageName\":false,\"wgNamespaceNumber\":0,\"wgPageName\":\"Finanzas\",\"wgTitle\":\"Finanzas\",\"wgCurRevisionId\":149615807,\"wgRevisionId\":149615807,\"wgArticleId\":142062,\"wgIsArticle\":true,\"wgIsRedirect\":false,\"wgAction\":\"view\",\"wgUserName\":null,\"wgUserGroups\":[\"*\"],\"wgCategories\":[\n",
            "\"Wikipedia:Artículos que necesitan referencias adicionales\",\"Wikipedia:Referenciar (aún sin clasificar)\",\"Wikipedia:Artículos con identificadores LCCN\",\"Wikipedia:Artículos con identificadores AAT\",\"Finanzas\",\"Administración\",\"Economía de la empresa\"],\"wgPageContentLanguage\":\"es\",\"wgPageContentModel\":\"wikitext\",\"wgRelevantPageName\":\"Finanzas\",\"wgRelevantArticleId\":142062,\"wgIsProbablyEditable\":true,\"wgRelevantPageIsProbablyEditable\":true,\"wgRestrictionEdit\":[],\"wgRestrictionMove\":[],\"wgVisualEditor\":{\"pageLanguageCode\":\"es\",\"pageLanguageDir\":\"ltr\",\"pageVariantFallbacks\":\"es\"},\"wgMFDisplayWikibaseDescriptions\":{\"search\":true,\"watchlist\":true,\"tagline\":true,\"nearby\":true},\"wgWMESchemaEditAttemptStepOversample\":false,\"wgWMEPageLength\":20000,\"wgNoticeProject\":\"wikipedia\",\"wgVector2022PreviewPages\":[],\"wgMediaViewerOnClick\":true,\"wgMediaViewerEnabledByDefault\":true,\"wgPopupsFlags\":10,\"wgULSCurrentAutonym\":\"español\",\"wgEditSubmitButtonLabelPublish\":true,\"wgCentralAuthMobileDomain\":\n",
            "false,\"wgULSPosition\":\"interlanguage\",\"wgULSisCompactLinksEnabled\":true,\"wgULSisLanguageSelectorEmpty\":false,\"wgWikibaseItemId\":\"Q43015\",\"GEHomepageSuggestedEditsEnableTopics\":true,\"wgGETopicsMatchModeEnabled\":true,\"wgGEStructuredTaskRejectionReasonTextInputEnabled\":false};RLSTATE={\"ext.gadget.imagenesinfobox\":\"ready\",\"ext.globalCssJs.user.styles\":\"ready\",\"site.styles\":\"ready\",\"user.styles\":\"ready\",\"ext.globalCssJs.user\":\"ready\",\"user\":\"ready\",\"user.options\":\"loading\",\"ext.cite.styles\":\"ready\",\"skins.vector.styles.legacy\":\"ready\",\"ext.visualEditor.desktopArticleTarget.noscript\":\"ready\",\"ext.wikimediaBadges\":\"ready\",\"ext.uls.interlanguage\":\"ready\",\"wikibase.client.init\":\"ready\"};RLPAGEMODULES=[\"ext.cite.ux-enhancements\",\"site\",\"mediawiki.page.ready\",\"mediawiki.toc\",\"skins.vector.legacy.js\",\"mmv.head\",\"mmv.bootstrap.autostart\",\"ext.visualEditor.desktopArticleTarget.init\",\"ext.visualEditor.targetLoader\",\"ext.eventLogging\",\"ext.wikimediaEvents\",\"ext.navigationTiming\",\n",
            "\"ext.cx.eventlogging.campaigns\",\"ext.quicksurveys.init\",\"ext.centralNotice.geoIP\",\"ext.centralNotice.startUp\",\"ext.gadget.a-commons-directo\",\"ext.gadget.ReferenceTooltips\",\"ext.gadget.refToolbar\",\"ext.gadget.switcher\",\"ext.centralauth.centralautologin\",\"ext.popups\",\"ext.echo.centralauth\",\"ext.uls.compactlinks\",\"ext.uls.interface\",\"ext.growthExperiments.SuggestedEditSession\"];(RLQ=window.RLQ||[]).push(function(){mw.loader.implement(\"user.options@12s5i\",function($,jQuery,require,module){mw.user.tokens.set({\"patrolToken\":\"+\\\\\",\"watchToken\":\"+\\\\\",\"csrfToken\":\"+\\\\\"});});});FinanzasDe Wikipedia, la enciclopedia libreIr a la navegaciónIr a la búsquedaLas finanzasLasfinanzasson unaramade laciencia económicay de laadministraciónque estudia el intercambio decapitalentreindividuos,empresas, oEstadosy con la incertidumbre y el riesgo que estas actividades conllevan. Se dedica al estudio de la obtención de capital para la inversión en bienes productivos y de las decisiones de inversión de los ahorradores.Así mismo, su estudio se basa en laobtencióny laadministracióndel dinero para lograr sus respectivos objetivos, tomando en cuenta todos los riesgos que ella implica, basándose en todos y cada uno de sus componentes que la integra para mantener un buen control.Las finanzas estudian cómo los agentes económicos (empresas, familias o Estado) deben tomar decisiones de inversión, ahorro y gasto en condiciones de incertidumbre. Al momento de tomar estas decisiones los agentes pueden optar por diversos tipos de recursos financieros tales como: dinero, bonos, acciones o derivados, incluyendo la compra de bienes de capital como maquinarias, edificios y otras infraestructuras. Ver diferencia entre ahorro e inversión.Las finanzas va ligada con la administración por ejemplo, al considerar un nuevo producto, el administrador financiero requiere que el personal de finanzas le proporcione los cálculos de presupuesto. Y la función de las finanzas administrativas puede describirse ampliamente al considerar su papel dentro de la organización, su relación con la economía y la contabilidad y las principales actividades del administrador financiero.Está relacionado con lastransaccionesy con la administración del dinero.[1]​ En ese marco se estudia la obtención y gestión, por parte de una compañía, un individuo, o del propio Estado, de los fondos que necesita para cumplir sus objetivos, y de los criterios con que dispone de susactivos; en otras palabras, lo relativo a la obtención y gestión del dinero, así como de otros valores o sucedáneos del dinero, como lo son lostítulos, losbonos, etc. Según Bodie y Merton, las finanzas «estudian la manera en que losrecursosescasos se asignan a través del tiempo». Las finanzas tratan, por lo tanto, de las condiciones y la oportunidad con que se consigue el capital, de los usos de este, y los retornos que un inversionista obtiene de sus inversiones.[2]​El estudio académico de las finanzas se divide principalmente en dos ramas,[3]​ que reflejan las posiciones respectivas de aquel que necesita fondos o dinero para realizar una inversión, llamadafinanzas corporativas, y de aquel que quiere invertir su dinero dándoselo a alguien que lo quiera usar para invertir, llamadavaluación de activos.[4]​ El área de finanzas corporativas estudia cómo le conviene más a un inversionista conseguir dinero, por ejemplo, si vendiendo acciones, pidiendo prestado a un banco o vendiendo deuda en el mercado. El área de valuación de activos estudia cómo le conviene más a un inversionista invertir su dinero, por ejemplo, si comprando acciones, prestando/comprando deuda, o acumulado dinero en efectivo.\n",
            "Estas dos ramas de las finanzas se dividen en otras más. Algunas de las áreas más populares dentro del estudio de las finanzas son: Intermediación Financiera, Finanzas Conductistas, Microestructura de los Mercados Financieros, Desarrollo Financiero, Finanzas Internacionales, y Finanzas de Consumidor.[5]​ Una disciplina recientemente creada son las neurofinanzas, rama de laneuroeconomía, encargada del estudio de los sesgos relacionados con el manejo de la economía.[6]​Las finanzas personales son la aplicación de las finanzas y sus principios a una persona o familia en su deseo de realizar sus actividades con la mejor distribución de dinero para ello. Así, deben reconocer cómo ocupar sus ingresos en educación, salud, alimentación, vestimenta, seguros, lujos, transporte, etc. Se deben tener en cuenta los ingresos, los gastos, los ahorros y siempre estableciendo los riesgos y los eventos futuros. Parte de las finanzas personales son los cheques, las cuentas de ahorro, las tarjetas de crédito, los préstamos, las inversiones en el mercado de valores, los planes de jubilación, los impuestos, etc.Índice1Conceptos clave2Clasificación2.1Finanzas privadas2.2Finanzas públicas2.2.1Corto plazo2.2.2Largo plazo2.2.3Mediano plazo2.2.4Política fiscal2.2.5Disciplinas auxiliares3Véase también4ReferenciasConceptos clave[editar]Este artículo o sección tienereferencias, pero necesita más para complementar suverificabilidad.Este aviso fue puesto el 25 de mayo de 2019.Riesgoybeneficio: Los inversores actúan en los diferentes mercados intentando obtener el mayor rendimiento para su dinero a la vez que pretenden minimizar el riesgo de su inversión. El mercado de capitales ofrece en cada momento una frontera eficiente, que relaciona una determinada rentabilidad con un determinado nivel de riesgo o volatilidad. El inversor obtiene una mayor rentabilidad esperada a cambio de soportar una mayor incertidumbre. El precio de la incertidumbre es la diferencia entre la rentabilidad de la inversión y el tipo de interés de aquellos valores que se consideran seguros. A esta diferencia la conocemos como prima de riesgo.El valor del dinero en el tiempo: Ante la misma cantidad de dinero, un inversor prefiere disponer de ella en el presente que en el futuro. Por ello, el transvase intertemporal de dinero cuenta con un factor de descuento (si intercambiamos renta futura por capital presente, por ejemplo, en un préstamo hipotecario), o con una rentabilidad (si ìntercambiamos renta presente por renta futura, por ejemplo, en un plan de pensiones).Tasa de interés: y representa una tasa de intercambio entre el precio del dinero al día de hoy en términos del dinero futuro.En España la tasa de interés es conocida como el tipo de interés.La tasa de interés afecta directamente el consumo, el comercio y la inversión, pues parte del consumo se paga mediante tarjetas de crédito, parte de la mercancía comprada y vendida por los comercios es comprada a crédito, y las inversiones siempre se apoyan con préstamos bancarios o emisión de deuda mediante bonos: Al subir la tasa de interés el consumo y la inversión disminuyen, pues individuos y empresas encuentran más difícil pagar sus deudas; al bajar la tasa de interés el consumo y la inversión aumentan por el estímulo que representa pagar menos intereses. Esta relación entre tasa de interés, consumo e inversión es utilizada por los diseñadores de políticas macroeconómicas para manipularlos para afectar crecimiento económico, empleo e inflación: Para disminuir la inflación inducen un aumento en las tasas de interés; cuando quieren aumentar el empleo, inducen su disminución. Tales acciones usualmente son llevadas a cabo mediante el Banco Central de cada país al establecer la llamada tasa de descuento - la tasa de interés a la cual presta dinero a los bancos. Este cambio en la tasa de descuento impacta los costos del dinero en los bancos y, por tanto, impacta la tasa de interés que tales bancos cobran por sus préstamos.La relación entreliquidezeinversión: La necesidad de contar con dinero líquido tanto para el intercambio porbienes y servicioscomo para realizar una inversión hace que el mercado de la mercancía-dinero tenga su propiaofertaydemanda, y sus propios costes y precios.Costes de oportunidad: Hace referencia al sacrificio que debe hacer cualquier agente que participe en un mercado al decidir prescindir de un consumo o de una inversión para emplear sus recursos, siendo estos por definiciónescasos, en otro proyecto.Inflación: Proceso económico que consiste en un aumento continuo de los precios de la mayor parte de los productos y servicios, y, por lo tanto, de una pérdida del valor del dinero para poder adquirir esosbienes y servicios, la inflación impacta principalmente a la economía de un país, es el nuevo costo de vida. La inflación tiene un impacto directo sobre la tasa de interés: puesto que la inflación reduce el valor del dinero, a mayor inflación, mayor es la tasa de interés necesaria para compensar a un ahorrador por prestar dinero al vecino.Clasificación[editar]Hay varias fuentes de las finanzas, las deudas, las obligaciones, las utilidades brutas, los préstamos a largos plazos, el capital del préstamo, las tarjetas de créditos, los fondos de riesgos laborales, entre otros. Estas fuentes financieras son útiles en diferentes situaciones y pueden clasificarse con base al tiempo y el control.  Una empresa puede elegir las fuentes de financiación alternativa. La elección debe de ser correcta y adecuada. Esto supone un gran reto a los gerentes de finanzas de las empresas. Este proceso de selección debe de ser analizado y, comprender todas las características de cada uno, con base a lo que necesite la empresa.  Para conocer las fuentes de financiación, es necesario saber cuáles son las clasificaciones de las finanzas. Las finanzas se clasifican en dos ramas, las finanzas públicas y las privadas.Finanzas privadas[editar]Básicamente, este tipo de finanzas se trata de la optimización de las finanzas a nivel personal (la familia, los ahorros personales, entre otros). Están sometidas a un presupuesto. Por ejemplo, una persona puede financiar su vehículo en cualquier banco. La finanza privada es la planificación financiera a nivel individual. Se trata de la utilización de los recursos monetarios, personal y familiar, considerando los acontecimientos futuros y los riesgos asociados con estos.Las finanzas privadas incluyen:cuentas deahorroriesgos laboralesplanes de retirospréstamos personalesinversiones en el mercado de valoresgestión de los impuestostarjetas de créditoFinanzas públicas[editar]Esta finanza es la encargada de tratar de optimizar los objetivos económicos de un Estado (inversión, PIB, déficit, superávit, entre otras), mediante la estimación de las necesidades futuras y la asignación de fondos de acuerdo con la disponibilidad de fondos.Las finanzas públicas constituyen una rama de la economía que ayuda a examinar las consecuencias de los diferentes tipos de inversiones, de los impuestos y de los gastos de los empleados de las empresas estatales o de los gobiernos. También analiza la eficacia de los procedimientos en el desarrollo técnico de la empresa.  Las finanzas públicas se encargan de las provisiones necesarias a nivel de comercio. Una empresa necesita constantemente capital, sobre la base de las diferentes inversiones a:Corto plazo[editar]Largo plazo[editar]Mediano plazo[editar]Las inversiones a corto plazo se utilizan para satisfacer las necesidades actuales de una empresa. Las inversiones a largo plazo son utilizadas para la adquisición de activos fijos de la empresa, por ejemplo, tierras, maquinaria, entre otras. Y las inversiones a mediano plazo incluyen las utilidades retenidas, por ejemplo, los préstamos temporales, cambios en la empresa, entre otras. Algunas ramas de las finanzas públicas son:Ingresos. Los ingresos son obtenidos por el gobierno a través de los impuestos (impuestos sobre la renta, derecho de importación, entre otros) y las fuentes no tributarias (multas y honorarios).Gastos públicos. Estos son los diferentes tipos de gastos en que incurre el gobierno o empresa durante su correcto funcionamiento.Deuda pública. Cuando el gasto público de un gobierno excede sus ingresos, el gobierno toma prestado para continuar con su correcto funcionamiento.Presupuesto. El presupuesto es utilizado para determinar todos los gastos que tendrá un gobierno, mismo que se hace de forma anual.Política fiscal[editar]La política fiscal tiene que ver con el marco político del gobierno, después de tomar en consideración el gasto público, las vías de ingresos del gobierno, entre otras. Las finanzas juegan un papel fundamental en la organización de un gobierno y de una empresa. Sin una correcta organización, los gastos pueden elevarse de tal manera que la deuda pública crezca hasta convertirse en una deuda externa.Disciplinas auxiliares[editar]La especialidad financiera tiene vínculo con otras ciencias y con diversas teorías económicas y administrativas. Economía y finanzas tienen gran conocimiento en común, las finanzas pueden ser una rama de la economía, así como también de la administración, por eso se tiene el concepto de administración financiera, finanzas públicas o economía de la empresa.Una materia aledaña a las finanzas es la contabilidad. El método de registro contable produce información acomodada y estructurada en los llamados estados financieros. Las finanzas bien pueden estar relacionadas con las matemáticas. Las llamadas matemáticas financieras otorgan las bases de cálculo necesarias para solucionar diversos situaciones financieras como el valor del dinero en el proceso de estimación y posibilidades de ocurrencia. Las finanzas tienen relación con el derecho, ya que el método financiero tiene su soporte en un comulgo de reglas, normas y leyes que se encuentra su marco legal donde operan las finanzas.Finanzas y economía: Las finanzas en conjunto con la economía tienen como función administrar recursos escasos y deseos ilimitados. Las necesidades son superiores, en algunos casos, a los recursos disponibles.Finanzas y contabilidad: La contabilidad posee una técnica que se ocupa de registrar y resumir las operaciones mercantiles de un negocio con el fin de interpretar sus resultados. Por consiguiente, los gerentes o directores a través de la contabilidad pueden orientarse sobre el curso que siguen sus negocios mediante datos contables y estadísticos. Estos datos permiten conocer la estabilidad y solvencia de la compañía, la corriente de cobros y pagos, las tendencias de las ventas, costos y gastos generales, entre otros. De manera que se pueda conocer la capacidad financiera de la empresa.Finanzas y matemáticas: La matemática financiera es el campo de las matemáticas aplicadas, que analiza, valora y calcula materias relacionadas con los mercados financieros y, en especial, el valor del dinero en el tiempo. Así, las matemáticas financieras se ocuparán del cálculo del valor, tasas de interés o rentabilidad de los distintos productos que existen en los mercados financieros.[7]​Véase también[editar]Portal:Economía. Contenido relacionado conEconomía.Referencias[editar]↑Ministerio de Economía y Finanzas Públicas, República de Argentina.↑BODIE, Zvi y Robert C. Merton,Finanzas, Pearson Educación, 2003.↑«Society for Financial Studies». 15 de junio de 2013. Archivado desdeel originalel 15 de junio de 2013. Consultado el 11 de octubre de 2017.↑Quiroga, Fabian (18 de mayo de 2019).«Importancia del departamento de contabilidad».TU ECONOMÍA FÁCIL. Consultado el 18 de mayo de 2019.↑Véasehttp://www.aeaweb.org/jel/jel_class_system.php#G↑Ospina, Gissela (28 de abril de 2019).«Razones financieras: interpretación, ejemplos y fórmulas».TU ECONOMÍA FÁCIL. Consultado el 6 de septiembre de 2019.↑García Padilla, Victor (2014). «I».Introducción a las finanzas. Grupo editorial Parra. p. 15,16..mw-parser-output .mw-authority-control{margin-top:1.5em}.mw-parser-output .mw-authority-control .navbox table{margin:0}.mw-parser-output .mw-authority-control .navbox hr:last-child{display:none}.mw-parser-output .mw-authority-control .navbox+.mw-mf-linked-projects{display:none}.mw-parser-output .mw-authority-control .mw-mf-linked-projects{display:flex;padding:0.5em;border:1px solid #c8ccd1;background-color:#eaecf0;color:#222222}.mw-parser-output .mw-authority-control .mw-mf-linked-projects ul li{margin-bottom:0}Control de autoridadesProyectos WikimediaDatos:Q43015Multimedia:Finance/Q43015IdentificadoresLCCN:sh85048256NDL:00565882NKC:ph114548NARA:10640006AAT:300055715Diccionarios y enciclopediasBritannica:urlDatos:Q43015Multimedia:Finance/Q43015Obtenido de «https://es.wikipedia.org/w/index.php?title=Finanzas&oldid=149615807»Categorías:FinanzasAdministraciónEconomía de la empresaCategorías ocultas:Wikipedia:Artículos que necesitan referencias adicionalesWikipedia:Referenciar (aún sin clasificar)Wikipedia:Artículos con identificadores LCCNWikipedia:Artículos con identificadores AATMenú de navegaciónHerramientas personalesNo has accedidoDiscusiónContribucionesCrear una cuentaAccederEspacios de nombresArtículoDiscusiónespañolVistasLeerEditarVer historialMásNavegaciónPortadaPortal de la comunidadActualidadCambios recientesPáginas nuevasPágina aleatoriaAyudaDonacionesNotificar un errorHerramientasLo que enlaza aquíCambios en enlazadasSubir archivoPáginas especialesEnlace permanenteInformación de la páginaCitar esta páginaElemento de WikidataImprimir/exportarCrear un libroDescargar como PDFVersión para imprimirEn otros proyectosWikimedia CommonsEn otros idiomasAfrikaansAragonésالعربيةAsturianuAzərbaycancaتۆرکجهБашҡортсаБеларускаяБеларуская (тарашкевіца)БългарскиবাংলাCatalàᏣᎳᎩČeštinaCymraegDanskDeutschZazakiΕλληνικάEnglishEsperantoEestiEuskaraفارسیSuomiFrançaisNordfriiskFurlanGaeilgeKriyòl gwiyannenGaelg客家語/Hak-kâ-ngîעבריתहिन्दीHrvatskiMagyarՀայերենBahasa IndonesiaInterlingueIdoÍslenskaItaliano日本語PatoisქართულიҚазақшаಕನ್ನಡ한국어КыргызчаLimburgsLietuviųLatviešuമലയാളംBahasa MelayuNorsk nynorskNorsk bokmålPolskiپښتوPortuguêsRomânăРусскийСаха тылаSicilianuScotsSrpskohrvatski / српскохрватскиSimple EnglishSlovenčinaSlovenščinaChiShonaShqipСрпски / srpskiSvenskaதமிழ்ไทยTagalogTürkçeУкраїнськаاردوOʻzbekcha / ўзбекчаVènetoTiếng ViệtWinaray吴语მარგალურიייִדישYorùbá中文文言Bân-lâm-gú粵語Editar enlacesEsta página se editó por última vez el 1 mar 2023 a las 23:58.El texto está disponible bajo laLicencia Creative Commons Atribución Compartir Igual 3.0;\n",
            "pueden aplicarse cláusulas adicionales. Al usar este sitio, usted acepta nuestrostérminos de usoy nuestrapolítica de privacidad.Wikipedia® es una marca registrada de laFundación Wikimedia, Inc., una organización sin ánimo de lucro.Política de privacidadAcerca de WikipediaLimitación de responsabilidadVersión para móvilesDesarrolladoresEstadísticasDeclaración de cookies(RLQ=window.RLQ||[]).push(function(){mw.config.set({\"wgPageParseReport\":{\"limitreport\":{\"cputime\":\"0.216\",\"walltime\":\"0.358\",\"ppvisitednodes\":{\"value\":2190,\"limit\":1000000},\"postexpandincludesize\":{\"value\":16289,\"limit\":2097152},\"templateargumentsize\":{\"value\":1770,\"limit\":2097152},\"expansiondepth\":{\"value\":23,\"limit\":100},\"expensivefunctioncount\":{\"value\":8,\"limit\":500},\"unstrip-depth\":{\"value\":0,\"limit\":20},\"unstrip-size\":{\"value\":6933,\"limit\":5000000},\"entityaccesscount\":{\"value\":8,\"limit\":400},\"timingprofile\":[\"100.00%  236.491      1 -total\",\" 59.70%  141.175      1 Plantilla:Control_de_autoridades\",\" 18.51%   43.771      1 Plantilla:Listaref\",\" 16.17%   38.243      1 Plantilla:Referencias_adicionales\",\" 11.19%   26.471      1 Plantilla:Aviso\",\" 10.73%   25.373      1 Plantilla:Cite_web\",\"  9.84%   23.262      2 Plantilla:Problemas_artículo/validar\",\"  6.95%   16.435     12 Plantilla:Str_mid\",\"  6.57%   15.548     24 Plantilla:Trim\",\"  5.19%   12.280      1 Plantilla:Portal\"]},\"scribunto\":{\"limitreport-timeusage\":{\"value\":\"0.127\",\"limit\":\"10.000\"},\"limitreport-memusage\":{\"value\":4149875,\"limit\":52428800}},\"cachereport\":{\"origin\":\"mw2336\",\"timestamp\":\"20230304033302\",\"ttl\":86400,\"transientcontent\":true}}});});{\"@context\":\"https:\\/\\/schema.org\",\"@type\":\"Article\",\"name\":\"Finanzas\",\"url\":\"https:\\/\\/es.wikipedia.org\\/wiki\\/Finanzas\",\"sameAs\":\"http:\\/\\/www.wikidata.org\\/entity\\/Q43015\",\"mainEntity\":\"http:\\/\\/www.wikidata.org\\/entity\\/Q43015\",\"author\":{\"@type\":\"Organization\",\"name\":\"Colaboradores de los proyectos Wikimedia\"},\"publisher\":{\"@type\":\"Organization\",\"name\":\"Wikimedia Foundation, Inc.\",\"logo\":{\"@type\":\"ImageObject\",\"url\":\"https:\\/\\/www.wikimedia.org\\/static\\/images\\/wmf-hor-googpub.png\"}},\"datePublished\":\"2005-06-04T20:46:22Z\",\"dateModified\":\"2023-03-01T23:58:27Z\",\"image\":\"https:\\/\\/upload.wikimedia.org\\/wikipedia\\/commons\\/d\\/d3\\/Manual_de_finanzas_personales_y_familia_041.jpg\",\"headline\":\"rama de la econom\\u00eda y administraci\\u00f3n de empresas\"}{\"@context\":\"https:\\/\\/schema.org\",\"@type\":\"Article\",\"name\":\"Finanzas\",\"url\":\"https:\\/\\/es.wikipedia.org\\/wiki\\/Finanzas\",\"sameAs\":\"http:\\/\\/www.wikidata.org\\/entity\\/Q43015\",\"mainEntity\":\"http:\\/\\/www.wikidata.org\\/entity\\/Q43015\",\"author\":{\"@type\":\"Organization\",\"name\":\"Colaboradores de los proyectos Wikimedia\"},\"publisher\":{\"@type\":\"Organization\",\"name\":\"Wikimedia Foundation, Inc.\",\"logo\":{\"@type\":\"ImageObject\",\"url\":\"https:\\/\\/www.wikimedia.org\\/static\\/images\\/wmf-hor-googpub.png\"}},\"datePublished\":\"2005-06-04T20:46:22Z\",\"dateModified\":\"2023-03-01T23:58:27Z\",\"image\":\"https:\\/\\/upload.wikimedia.org\\/wikipedia\\/commons\\/d\\/d3\\/Manual_de_finanzas_personales_y_familia_041.jpg\",\"headline\":\"rama de la econom\\u00eda y administraci\\u00f3n de empresas\"}(RLQ=window.RLQ||[]).push(function(){mw.config.set({\"wgBackendResponseTime\":111,\"wgHostname\":\"mw2335\"});});\n"
          ]
        }
      ],
      "source": [
        "import nltk\n",
        "from bs4 import BeautifulSoup\n",
        " \n",
        "import urllib.request\n",
        "  \n",
        "response = urllib.request.urlopen('https://es.wikipedia.org/wiki/Finanzas') #Obtiene el contenido HTML de la página web http://librefinanciero.com/\n",
        " \n",
        "html = response.read()\n",
        " \n",
        "soup = BeautifulSoup(html,\"lxml\") # Limpia el texto HTML capturado\n",
        " \n",
        "text = soup.get_text(strip=True)\n",
        " \n",
        "print (text)"
      ]
    },
    {
      "cell_type": "markdown",
      "metadata": {
        "id": "kHVKCRE2rrhv"
      },
      "source": [
        "Crear tokens por palabras"
      ]
    },
    {
      "cell_type": "code",
      "execution_count": 7,
      "metadata": {
        "colab": {
          "base_uri": "https://localhost:8080/",
          "height": 745
        },
        "id": "EyIpR93trqpm",
        "outputId": "b4572f90-0f6a-4470-e174-4d03a611af8a"
      },
      "outputs": [
        {
          "ename": "LookupError",
          "evalue": "ignored",
          "output_type": "error",
          "traceback": [
            "\u001b[0;31m---------------------------------------------------------------------------\u001b[0m",
            "\u001b[0;31mLookupError\u001b[0m                               Traceback (most recent call last)",
            "\u001b[0;32m<ipython-input-7-164423e0020c>\u001b[0m in \u001b[0;36m<module>\u001b[0;34m\u001b[0m\n\u001b[1;32m      1\u001b[0m \u001b[0;32mfrom\u001b[0m \u001b[0mnltk\u001b[0m\u001b[0;34m.\u001b[0m\u001b[0mtokenize\u001b[0m \u001b[0;32mimport\u001b[0m \u001b[0mword_tokenize\u001b[0m\u001b[0;34m\u001b[0m\u001b[0;34m\u001b[0m\u001b[0m\n\u001b[0;32m----> 2\u001b[0;31m \u001b[0mtokens\u001b[0m \u001b[0;34m=\u001b[0m \u001b[0mword_tokenize\u001b[0m\u001b[0;34m(\u001b[0m\u001b[0mtext\u001b[0m\u001b[0;34m,\u001b[0m\u001b[0;34m\"spanish\"\u001b[0m\u001b[0;34m)\u001b[0m\u001b[0;34m\u001b[0m\u001b[0;34m\u001b[0m\u001b[0m\n\u001b[0m\u001b[1;32m      3\u001b[0m \u001b[0mtokens\u001b[0m\u001b[0;34m=\u001b[0m\u001b[0;34m[\u001b[0m\u001b[0mword\u001b[0m\u001b[0;34m.\u001b[0m\u001b[0mlower\u001b[0m\u001b[0;34m(\u001b[0m\u001b[0;34m)\u001b[0m \u001b[0;32mfor\u001b[0m \u001b[0mword\u001b[0m \u001b[0;32min\u001b[0m \u001b[0mtokens\u001b[0m \u001b[0;32mif\u001b[0m \u001b[0mword\u001b[0m\u001b[0;34m.\u001b[0m\u001b[0misalpha\u001b[0m\u001b[0;34m(\u001b[0m\u001b[0;34m)\u001b[0m\u001b[0;34m]\u001b[0m \u001b[0;31m# Remover los signos de puntuación\u001b[0m\u001b[0;34m\u001b[0m\u001b[0;34m\u001b[0m\u001b[0m\n\u001b[1;32m      4\u001b[0m \u001b[0mprint\u001b[0m\u001b[0;34m(\u001b[0m\u001b[0mtokens\u001b[0m\u001b[0;34m)\u001b[0m\u001b[0;34m\u001b[0m\u001b[0;34m\u001b[0m\u001b[0m\n",
            "\u001b[0;32m/usr/local/lib/python3.8/dist-packages/nltk/tokenize/__init__.py\u001b[0m in \u001b[0;36mword_tokenize\u001b[0;34m(text, language, preserve_line)\u001b[0m\n\u001b[1;32m    127\u001b[0m     \u001b[0;34m:\u001b[0m\u001b[0mtype\u001b[0m \u001b[0mpreserve_line\u001b[0m\u001b[0;34m:\u001b[0m \u001b[0mbool\u001b[0m\u001b[0;34m\u001b[0m\u001b[0;34m\u001b[0m\u001b[0m\n\u001b[1;32m    128\u001b[0m     \"\"\"\n\u001b[0;32m--> 129\u001b[0;31m     \u001b[0msentences\u001b[0m \u001b[0;34m=\u001b[0m \u001b[0;34m[\u001b[0m\u001b[0mtext\u001b[0m\u001b[0;34m]\u001b[0m \u001b[0;32mif\u001b[0m \u001b[0mpreserve_line\u001b[0m \u001b[0;32melse\u001b[0m \u001b[0msent_tokenize\u001b[0m\u001b[0;34m(\u001b[0m\u001b[0mtext\u001b[0m\u001b[0;34m,\u001b[0m \u001b[0mlanguage\u001b[0m\u001b[0;34m)\u001b[0m\u001b[0;34m\u001b[0m\u001b[0;34m\u001b[0m\u001b[0m\n\u001b[0m\u001b[1;32m    130\u001b[0m     return [\n\u001b[1;32m    131\u001b[0m         \u001b[0mtoken\u001b[0m \u001b[0;32mfor\u001b[0m \u001b[0msent\u001b[0m \u001b[0;32min\u001b[0m \u001b[0msentences\u001b[0m \u001b[0;32mfor\u001b[0m \u001b[0mtoken\u001b[0m \u001b[0;32min\u001b[0m \u001b[0m_treebank_word_tokenizer\u001b[0m\u001b[0;34m.\u001b[0m\u001b[0mtokenize\u001b[0m\u001b[0;34m(\u001b[0m\u001b[0msent\u001b[0m\u001b[0;34m)\u001b[0m\u001b[0;34m\u001b[0m\u001b[0;34m\u001b[0m\u001b[0m\n",
            "\u001b[0;32m/usr/local/lib/python3.8/dist-packages/nltk/tokenize/__init__.py\u001b[0m in \u001b[0;36msent_tokenize\u001b[0;34m(text, language)\u001b[0m\n\u001b[1;32m    104\u001b[0m     \u001b[0;34m:\u001b[0m\u001b[0mparam\u001b[0m \u001b[0mlanguage\u001b[0m\u001b[0;34m:\u001b[0m \u001b[0mthe\u001b[0m \u001b[0mmodel\u001b[0m \u001b[0mname\u001b[0m \u001b[0;32min\u001b[0m \u001b[0mthe\u001b[0m \u001b[0mPunkt\u001b[0m \u001b[0mcorpus\u001b[0m\u001b[0;34m\u001b[0m\u001b[0;34m\u001b[0m\u001b[0m\n\u001b[1;32m    105\u001b[0m     \"\"\"\n\u001b[0;32m--> 106\u001b[0;31m     \u001b[0mtokenizer\u001b[0m \u001b[0;34m=\u001b[0m \u001b[0mload\u001b[0m\u001b[0;34m(\u001b[0m\u001b[0;34mf\"tokenizers/punkt/{language}.pickle\"\u001b[0m\u001b[0;34m)\u001b[0m\u001b[0;34m\u001b[0m\u001b[0;34m\u001b[0m\u001b[0m\n\u001b[0m\u001b[1;32m    107\u001b[0m     \u001b[0;32mreturn\u001b[0m \u001b[0mtokenizer\u001b[0m\u001b[0;34m.\u001b[0m\u001b[0mtokenize\u001b[0m\u001b[0;34m(\u001b[0m\u001b[0mtext\u001b[0m\u001b[0;34m)\u001b[0m\u001b[0;34m\u001b[0m\u001b[0;34m\u001b[0m\u001b[0m\n\u001b[1;32m    108\u001b[0m \u001b[0;34m\u001b[0m\u001b[0m\n",
            "\u001b[0;32m/usr/local/lib/python3.8/dist-packages/nltk/data.py\u001b[0m in \u001b[0;36mload\u001b[0;34m(resource_url, format, cache, verbose, logic_parser, fstruct_reader, encoding)\u001b[0m\n\u001b[1;32m    748\u001b[0m \u001b[0;34m\u001b[0m\u001b[0m\n\u001b[1;32m    749\u001b[0m     \u001b[0;31m# Load the resource.\u001b[0m\u001b[0;34m\u001b[0m\u001b[0;34m\u001b[0m\u001b[0;34m\u001b[0m\u001b[0m\n\u001b[0;32m--> 750\u001b[0;31m     \u001b[0mopened_resource\u001b[0m \u001b[0;34m=\u001b[0m \u001b[0m_open\u001b[0m\u001b[0;34m(\u001b[0m\u001b[0mresource_url\u001b[0m\u001b[0;34m)\u001b[0m\u001b[0;34m\u001b[0m\u001b[0;34m\u001b[0m\u001b[0m\n\u001b[0m\u001b[1;32m    751\u001b[0m \u001b[0;34m\u001b[0m\u001b[0m\n\u001b[1;32m    752\u001b[0m     \u001b[0;32mif\u001b[0m \u001b[0mformat\u001b[0m \u001b[0;34m==\u001b[0m \u001b[0;34m\"raw\"\u001b[0m\u001b[0;34m:\u001b[0m\u001b[0;34m\u001b[0m\u001b[0;34m\u001b[0m\u001b[0m\n",
            "\u001b[0;32m/usr/local/lib/python3.8/dist-packages/nltk/data.py\u001b[0m in \u001b[0;36m_open\u001b[0;34m(resource_url)\u001b[0m\n\u001b[1;32m    874\u001b[0m \u001b[0;34m\u001b[0m\u001b[0m\n\u001b[1;32m    875\u001b[0m     \u001b[0;32mif\u001b[0m \u001b[0mprotocol\u001b[0m \u001b[0;32mis\u001b[0m \u001b[0;32mNone\u001b[0m \u001b[0;32mor\u001b[0m \u001b[0mprotocol\u001b[0m\u001b[0;34m.\u001b[0m\u001b[0mlower\u001b[0m\u001b[0;34m(\u001b[0m\u001b[0;34m)\u001b[0m \u001b[0;34m==\u001b[0m \u001b[0;34m\"nltk\"\u001b[0m\u001b[0;34m:\u001b[0m\u001b[0;34m\u001b[0m\u001b[0;34m\u001b[0m\u001b[0m\n\u001b[0;32m--> 876\u001b[0;31m         \u001b[0;32mreturn\u001b[0m \u001b[0mfind\u001b[0m\u001b[0;34m(\u001b[0m\u001b[0mpath_\u001b[0m\u001b[0;34m,\u001b[0m \u001b[0mpath\u001b[0m \u001b[0;34m+\u001b[0m \u001b[0;34m[\u001b[0m\u001b[0;34m\"\"\u001b[0m\u001b[0;34m]\u001b[0m\u001b[0;34m)\u001b[0m\u001b[0;34m.\u001b[0m\u001b[0mopen\u001b[0m\u001b[0;34m(\u001b[0m\u001b[0;34m)\u001b[0m\u001b[0;34m\u001b[0m\u001b[0;34m\u001b[0m\u001b[0m\n\u001b[0m\u001b[1;32m    877\u001b[0m     \u001b[0;32melif\u001b[0m \u001b[0mprotocol\u001b[0m\u001b[0;34m.\u001b[0m\u001b[0mlower\u001b[0m\u001b[0;34m(\u001b[0m\u001b[0;34m)\u001b[0m \u001b[0;34m==\u001b[0m \u001b[0;34m\"file\"\u001b[0m\u001b[0;34m:\u001b[0m\u001b[0;34m\u001b[0m\u001b[0;34m\u001b[0m\u001b[0m\n\u001b[1;32m    878\u001b[0m         \u001b[0;31m# urllib might not use mode='rb', so handle this one ourselves:\u001b[0m\u001b[0;34m\u001b[0m\u001b[0;34m\u001b[0m\u001b[0;34m\u001b[0m\u001b[0m\n",
            "\u001b[0;32m/usr/local/lib/python3.8/dist-packages/nltk/data.py\u001b[0m in \u001b[0;36mfind\u001b[0;34m(resource_name, paths)\u001b[0m\n\u001b[1;32m    581\u001b[0m     \u001b[0msep\u001b[0m \u001b[0;34m=\u001b[0m \u001b[0;34m\"*\"\u001b[0m \u001b[0;34m*\u001b[0m \u001b[0;36m70\u001b[0m\u001b[0;34m\u001b[0m\u001b[0;34m\u001b[0m\u001b[0m\n\u001b[1;32m    582\u001b[0m     \u001b[0mresource_not_found\u001b[0m \u001b[0;34m=\u001b[0m \u001b[0;34mf\"\\n{sep}\\n{msg}\\n{sep}\\n\"\u001b[0m\u001b[0;34m\u001b[0m\u001b[0;34m\u001b[0m\u001b[0m\n\u001b[0;32m--> 583\u001b[0;31m     \u001b[0;32mraise\u001b[0m \u001b[0mLookupError\u001b[0m\u001b[0;34m(\u001b[0m\u001b[0mresource_not_found\u001b[0m\u001b[0;34m)\u001b[0m\u001b[0;34m\u001b[0m\u001b[0;34m\u001b[0m\u001b[0m\n\u001b[0m\u001b[1;32m    584\u001b[0m \u001b[0;34m\u001b[0m\u001b[0m\n\u001b[1;32m    585\u001b[0m \u001b[0;34m\u001b[0m\u001b[0m\n",
            "\u001b[0;31mLookupError\u001b[0m: \n**********************************************************************\n  Resource \u001b[93mpunkt\u001b[0m not found.\n  Please use the NLTK Downloader to obtain the resource:\n\n  \u001b[31m>>> import nltk\n  >>> nltk.download('punkt')\n  \u001b[0m\n  For more information see: https://www.nltk.org/data.html\n\n  Attempted to load \u001b[93mtokenizers/punkt/PY3/spanish.pickle\u001b[0m\n\n  Searched in:\n    - '/root/nltk_data'\n    - '/usr/nltk_data'\n    - '/usr/share/nltk_data'\n    - '/usr/lib/nltk_data'\n    - '/usr/share/nltk_data'\n    - '/usr/local/share/nltk_data'\n    - '/usr/lib/nltk_data'\n    - '/usr/local/lib/nltk_data'\n    - ''\n**********************************************************************\n"
          ]
        }
      ],
      "source": [
        "\n",
        "from nltk.tokenize import word_tokenize\n",
        "tokens = word_tokenize(text,\"spanish\")\n",
        "tokens=[word.lower() for word in tokens if word.isalpha()] # Remover los signos de puntuación\n",
        "print(tokens)"
      ]
    },
    {
      "cell_type": "markdown",
      "metadata": {
        "id": "7zoJterFshCi"
      },
      "source": [
        "Verificar frecuencia de palabras"
      ]
    },
    {
      "cell_type": "code",
      "execution_count": null,
      "metadata": {
        "id": "wK6Q8KRIsjxU"
      },
      "outputs": [],
      "source": [
        "freq = nltk.FreqDist(tokens)\n",
        "for key,val in freq.items():\n",
        "    print (str(key) + ':' + str(val))"
      ]
    },
    {
      "cell_type": "markdown",
      "metadata": {
        "id": "CXrgsZzKsozY"
      },
      "source": [
        "Visualizar Tokens"
      ]
    },
    {
      "cell_type": "code",
      "execution_count": null,
      "metadata": {
        "id": "b1K1EVPhsm25"
      },
      "outputs": [],
      "source": [
        "import matplotlib.pyplot as plt\n",
        "import seaborn as sns\n",
        "sns.set()\n",
        "freq.plot(30, cumulative=False)"
      ]
    },
    {
      "cell_type": "markdown",
      "metadata": {
        "id": "-H80_BN9suFN"
      },
      "source": [
        "Eliminar Palabras de Parada"
      ]
    },
    {
      "cell_type": "code",
      "execution_count": null,
      "metadata": {
        "id": "okojc9DXsr_U"
      },
      "outputs": [],
      "source": [
        "from nltk.corpus import stopwords\n",
        "\n",
        "clean_tokens = tokens[:]\n",
        " \n",
        "for token in tokens:\n",
        " \n",
        "    if token in stopwords.words('spanish'):\n",
        " \n",
        "        clean_tokens.remove(token)"
      ]
    },
    {
      "cell_type": "markdown",
      "metadata": {
        "id": "VoJQP-bts1py"
      },
      "source": [
        "Obtener Sinónimos"
      ]
    },
    {
      "cell_type": "code",
      "execution_count": null,
      "metadata": {
        "id": "l-xxM1glszr0"
      },
      "outputs": [],
      "source": [
        "from nltk.corpus import wordnet\n",
        " \n",
        "synonyms = []\n",
        " \n",
        "for syn in wordnet.synsets('investment'):\n",
        "\n",
        "    for lemma in syn.lemmas():\n",
        " \n",
        "        synonyms.append(lemma.name())\n",
        " \n",
        "print(synonyms)"
      ]
    },
    {
      "cell_type": "markdown",
      "metadata": {
        "id": "lFF2Joehs6do"
      },
      "source": [
        "Reemplazar tokens sinónimos"
      ]
    },
    {
      "cell_type": "code",
      "execution_count": null,
      "metadata": {
        "id": "yEUahU9ys45H"
      },
      "outputs": [],
      "source": [
        "for ind,sin in enumerate(synonyms):\n",
        "    clean_tokens_sin = [word.replace(synonyms[ind],'investment') for word in clean_tokens]"
      ]
    }
  ],
  "metadata": {
    "colab": {
      "provenance": []
    },
    "kernelspec": {
      "display_name": "Python 3",
      "name": "python3"
    },
    "language_info": {
      "name": "python"
    }
  },
  "nbformat": 4,
  "nbformat_minor": 0
}
