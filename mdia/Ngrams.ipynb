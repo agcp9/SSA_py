{
  "cells": [
    {
      "cell_type": "code",
      "execution_count": 1,
      "metadata": {
        "colab": {
          "base_uri": "https://localhost:8080/"
        },
        "id": "nq1bH-eXw90w",
        "outputId": "46b79916-f9e7-4358-a870-5c90abcc2306"
      },
      "outputs": [
        {
          "data": {
            "text/plain": [
              "{'thor': 3, 'gómez': 2, 'está': 1, 'buscando': 0, 'trabajo': 4}"
            ]
          },
          "execution_count": 1,
          "metadata": {},
          "output_type": "execute_result"
        }
      ],
      "source": [
        "from sklearn.feature_extraction.text import CountVectorizer\n",
        "\n",
        "v= CountVectorizer()\n",
        "v.fit([\"Thor Gómez está buscando trabajo\"])\n",
        "v.vocabulary_"
      ]
    },
    {
      "cell_type": "markdown",
      "metadata": {
        "id": "Stqh2F4zxFMi"
      },
      "source": [
        "podemos hacerlo por pares usando ngram_range"
      ]
    },
    {
      "cell_type": "code",
      "execution_count": 2,
      "metadata": {
        "colab": {
          "base_uri": "https://localhost:8080/"
        },
        "id": "98H05U8jxGbs",
        "outputId": "28676bd1-7712-44ea-811c-ab53267eb5e4"
      },
      "outputs": [
        {
          "data": {
            "text/plain": [
              "{'thor gómez': 3, 'gómez está': 2, 'está buscando': 1, 'buscando trabajo': 0}"
            ]
          },
          "execution_count": 2,
          "metadata": {},
          "output_type": "execute_result"
        }
      ],
      "source": [
        "v = CountVectorizer(ngram_range=(2,2))\n",
        "v.fit([\"Thor Gómez está buscando trabajo\"])\n",
        "v.vocabulary_"
      ]
    },
    {
      "cell_type": "code",
      "execution_count": 3,
      "metadata": {
        "colab": {
          "base_uri": "https://localhost:8080/"
        },
        "id": "dLwbiEp2xM-h",
        "outputId": "cb92d666-160e-455b-d44d-395d58ddc1f8"
      },
      "outputs": [
        {
          "data": {
            "text/plain": [
              "{'thor': 6,\n",
              " 'gómez': 4,\n",
              " 'está': 2,\n",
              " 'buscando': 0,\n",
              " 'trabajo': 8,\n",
              " 'thor gómez': 7,\n",
              " 'gómez está': 5,\n",
              " 'está buscando': 3,\n",
              " 'buscando trabajo': 1}"
            ]
          },
          "execution_count": 3,
          "metadata": {},
          "output_type": "execute_result"
        }
      ],
      "source": [
        "v = CountVectorizer(ngram_range=(1,2))\n",
        "v.fit([\"Thor Gómez está buscando trabajo\"])\n",
        "v.vocabulary_\n",
        "\n",
        "'''v = CountVectorizer(ngram_range=(1,3))\n",
        "v.fit([\"Thor Gómez está buscando trabajo\"])\n",
        "v.vocabulary_'''"
      ]
    },
    {
      "cell_type": "markdown",
      "metadata": {
        "id": "Cdjv2MoKxcv0"
      },
      "source": [
        "Procesamiento de frases"
      ]
    },
    {
      "cell_type": "code",
      "execution_count": 4,
      "metadata": {
        "id": "rgnD_cY3xgW_"
      },
      "outputs": [],
      "source": [
        "%%capture\n",
        "from IPython.core.display import set_matplotlib_close\n",
        "!spacy download es_core_news_sm\n",
        "import spacy"
      ]
    },
    {
      "cell_type": "code",
      "execution_count": 5,
      "metadata": {
        "id": "iir2QikXxh4T"
      },
      "outputs": [],
      "source": [
        "nlp = spacy.load(\"es_core_news_sm\")\n",
        "\n",
        "def preprocess(text):\n",
        "  doc = nlp(text)\n",
        "  filtered_tokens=[]\n",
        "  for token in doc:\n",
        "    if token.is_stop or token.is_punct:\n",
        "      continue\n",
        "    filtered_tokens.append(token.lemma_)\n",
        "  return \" \".join(filtered_tokens)"
      ]
    },
    {
      "cell_type": "code",
      "execution_count": 6,
      "metadata": {
        "colab": {
          "base_uri": "https://localhost:8080/",
          "height": 35
        },
        "id": "mLNPX8Qaxmhl",
        "outputId": "65708d81-a55d-4093-cf83-1f14b2d339ff"
      },
      "outputs": [
        {
          "data": {
            "application/vnd.google.colaboratory.intrinsic+json": {
              "type": "string"
            },
            "text/plain": [
              "'Thor comer arroz'"
            ]
          },
          "execution_count": 6,
          "metadata": {},
          "output_type": "execute_result"
        }
      ],
      "source": [
        "preprocess(\"Thor comió arroz\")"
      ]
    },
    {
      "cell_type": "markdown",
      "metadata": {
        "id": "JQwW0kQZx9Oy"
      },
      "source": [
        "Transformar a array"
      ]
    },
    {
      "cell_type": "code",
      "execution_count": 7,
      "metadata": {
        "colab": {
          "base_uri": "https://localhost:8080/"
        },
        "id": "CQEVjKnLx_Xy",
        "outputId": "30c19ecc-7613-45d0-e00a-cbf00f9939d0"
      },
      "outputs": [
        {
          "data": {
            "text/plain": [
              "array([[0, 0, 0, 0, 0, 0, 1, 0, 0]])"
            ]
          },
          "execution_count": 7,
          "metadata": {},
          "output_type": "execute_result"
        }
      ],
      "source": [
        "v.transform([preprocess(\"Thor comió arroz\")]).toarray()"
      ]
    }
  ],
  "metadata": {
    "colab": {
      "provenance": []
    },
    "kernelspec": {
      "display_name": "Python 3",
      "name": "python3"
    },
    "language_info": {
      "name": "python"
    }
  },
  "nbformat": 4,
  "nbformat_minor": 0
}
