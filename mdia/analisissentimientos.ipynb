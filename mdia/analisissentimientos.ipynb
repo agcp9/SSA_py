{
  "cells": [
    {
      "cell_type": "code",
      "execution_count": 1,
      "metadata": {
        "colab": {
          "base_uri": "https://localhost:8080/"
        },
        "id": "cbOIXNb5yYkB",
        "outputId": "068de0e2-f576-4ffa-e013-3baddeaec418"
      },
      "outputs": [
        {
          "name": "stdout",
          "output_type": "stream",
          "text": [
            "Looking in indexes: https://pypi.org/simple, https://us-python.pkg.dev/colab-wheels/public/simple/\n",
            "Requirement already satisfied: textBlob in /usr/local/lib/python3.8/dist-packages (0.15.3)\n",
            "Requirement already satisfied: nltk>=3.1 in /usr/local/lib/python3.8/dist-packages (from textBlob) (3.7)\n",
            "Requirement already satisfied: joblib in /usr/local/lib/python3.8/dist-packages (from nltk>=3.1->textBlob) (1.2.0)\n",
            "Requirement already satisfied: click in /usr/local/lib/python3.8/dist-packages (from nltk>=3.1->textBlob) (8.1.3)\n",
            "Requirement already satisfied: regex>=2021.8.3 in /usr/local/lib/python3.8/dist-packages (from nltk>=3.1->textBlob) (2022.6.2)\n",
            "Requirement already satisfied: tqdm in /usr/local/lib/python3.8/dist-packages (from nltk>=3.1->textBlob) (4.64.1)\n"
          ]
        }
      ],
      "source": [
        "from xml.dom import minidom\n",
        "!pip install textBlob\n",
        "from textblob import TextBlob"
      ]
    },
    {
      "cell_type": "code",
      "execution_count": 3,
      "metadata": {
        "id": "e5sU-MZSyfup"
      },
      "outputs": [],
      "source": [
        "doc = minidom.parse(\"economia.xml\")\n",
        "nombre = doc.getElementsByTagName(\"media:description\")"
      ]
    },
    {
      "cell_type": "code",
      "execution_count": 4,
      "metadata": {
        "colab": {
          "base_uri": "https://localhost:8080/"
        },
        "id": "0mw6LPnKysgb",
        "outputId": "4bc30f2e-da98-4c15-83cf-823c404b438f"
      },
      "outputs": [
        {
          "name": "stdout",
          "output_type": "stream",
          "text": [
            "0.0 La Comisión Europea se resiste a dar una respuesta inmediata sobre la extensión de la excepción ibérica que reclama la ministra para la Transición Ecológica\n",
            "0.0 Interior cifra la participación en más de un millón de manifestantes, 800.000 en París\n",
            "0.0 La primera convocatoria acabó con un 75% de los fondos desiertos. El Gobierno quiere aumentar los plazos para que se presenten los proyectos y ejecuten las inversiones. Los fabricantes piden que el plazo se alargue hasta 2028.\n",
            "0.0 María Garaña, vocal independiente de la órbita de Liberbank, renuncia al cargo en un momento de transición en la cúpula de la entidad por el futuro relevo de los representantes de la Fundación\n",
            "0.16666666666666666 El modelo de Threema se consolida entre las empresas que buscan privacidad máxima, pero el hecho de ser de cobro frena su uso particular.\n",
            "0.0 El empresario sevillano, fundador y propietario de 'City Sightseeing', desvela su secreto para levantar una compañía líder a nivel mundial con presencia en 119 ciudades.\n",
            "0.0 Las rentas suben tanto que es casi imposible reunir la entrada a una hipoteca; otras personas no pueden cambiar de piso en alquiler porque los requisitos son inalcanzables y algunas tendrán que cambiar de ciudad\n",
            "0.0 Los equipos negociadores se han reunido esta mañana para retomar la negociación del AENC en la sede de la patronal\n",
            "0.0 Simson apoya alargar el mecanismo, pero \"hay que acomodarlo\" para cumplir los objetivos renovables\n",
            "0.0 El operador ferroviario abre la negociación con las energéticas que han presentado oferta para hacerse con su suministro de luz hasta 2025, valorado más de 1.850  millones\n",
            "0.0 La entidad informa de que la \"incidencia técnica\" no es consecuencia de un ciberataque, y señala que los clientes pueden realizar reintegros en efectivo a través de cajeros y pagos con tarjeta\n",
            "0.0 El presidente augura un año histórico para el sector y se compromete a impulsar el país como destino durante la presidencia española del Consejo de la UE\n",
            "0.0 Los gurús de Davos advierten de los riesgos que acechan este año a la economía mundial\n",
            "0.0 La decisión de Alphabet se suma a los 11.000 despidos ya anunciados en Microsoft, y los 18.000 que también llevará a cabo Amazon\n",
            "0.0 Los <a href=\"https://www.helpmycash.com/mejores-depositos/?pid=9&amp;utm_source=elmundo&amp;utm_medium=referral&amp;utm_campaign=depositos\" target=\"_blank\" rel=\"nofollow\">\n",
            "0.0 El profesional mejor pagado del sector de la UE fue un directivo que obtuvo  casi 15 millones.\n",
            "0.0 La investigación continúa, pero la aviación civil estadounidense asegura que no ha encontrado de momento ninguna prueba que vincule el incidente con intenciones maliciosas o un ciberataque.\n",
            "0.03333333333333333 Las bajas a la Seguridad Social por finalización del contrato temporal se redujeron sólo un 15% en el primer año de la reforma laboral\n",
            "0.0 La presidenta del Banco Santander alerta en Davos sobre el efecto contraproducente de elevar la presión fiscal precisamente sobre la banca\n",
            "0.0 El director ejecutivo de la organización considera \"una lástima que la UE no aproveche la capacidad de regasificación de España\" y aconseja pasar gas por el corredor Barcelona-Marsella\n",
            "0.0 El organismo coincide así con lo que ya adelantaron la AIReF o Funcas para 2022. En 2023, en cambio, estima que la economía repuntará un 1,1%, lo que supone una décima menos\n",
            "0.0 Se ampliará el plazo para la presentación de los proyectos y que las inversiones se puedan ejecutar hasta finales de 2026. En la primera convocatoria, quedaron desiertos casi 2.200 de los 2.975 millones disponibles.\n",
            "0.0 El estudio de Facua concluye que los consumidores domésticos pagan cada mes 76,4 millones de más en sus recibos\n",
            "0.2 El Ministerio apunta que ya ha aprobado un cambio legal para que no se vuelvan a exigir 1.200 euros por hijo a las mujeres en estuvieron en un expediente de regulación durante el Covid\n",
            "0.0 El banco destaca que ha crecido en todas las líneas, segmentos de clientes y distintas geografías\n",
            "0.0 El Banco de España avisa de que incluso si se eleva el nivel de empleo hasta equipararlo con el alemán, eso sólo compensaría un 43% del aumento del gasto previsto\n",
            "0.0 Este emprendedor fogueado en Silicon Valley lidera un fondo para startups dedicadas al 5G, pero choca con los operadores: \"El 5G no está para el móvil, sino para robots y la industria\"\n",
            "0.0 Las pistas de esquí españolas ingresaron 160 millones de euros el año pasado. Aunque esta temporada ha arrancado de forma inusual, con menos nieve de la esperada, las estaciones se manifiestan optimistas.\n",
            "0.0 El país busca el apoyo internacional para impulsar el sector en una reconstrucción rápida\n",
            "0.0 Se matricularon 9,25 millones de vehículos en la UE, apenas 100.000 más que en 1993. España es el tercer país que más retrocede desde 2020.\n",
            "0.0 El Círculo de Empresarios propone una profunda reforma del gasto en las Administraciones Territoriales, y alerta de que España acumula una maraña de más de 16.000 entidades públicas\n",
            "0.0 Los máximos ejecutivos de las petroleras alertaron en Davos al presidente del Gobierno del impacto internacional por la inminente prohibición de comprar a Rusia este carburante\n",
            "0.03333333333333333 Moda Re-, al que Inditex destinará 3,5 de los 8,5 millones de euros previstos en el acuerdo, es un proyecto de economía social de Cáritas con el que ha creado 1.200 empleos\n",
            "0.0 <strong>Wallapop</strong> ha anunciado este miércoles una <strong>ampliación de su ronda de financiación </strong>Serie G por valor de <strong>81 millones de euros.</strong> Est\n",
            "0.0 La iniciativa suma, a nivel global, cinco convocatorias en cuatro países, más de 900 solicitantes, 72 compañías seleccionadas y 68 pruebas de concepto\n",
            "0.0 Este proceso es el de mayor envergadura de las diferencias fiscales entre el país y el operador, que cuentan con numerosos litigios abiertos.\n",
            "0.0 El sentido común indica que crear una empresa sin socios es una mala idea. La estadística, sin embargo, sostiene lo contrario. La soledad en la toma de decisiones y el querer abarcarlo todo son los problemas más comunes.\n",
            "0.0 Los Reyes inauguran Fitur 2023, una edición marcada por la vuelta del turismo internacional\n",
            "0.0 El volumen traspasado supone prácticamente igualar en sólo un año los volúmenes acumulados en los más de cinco ejercicios anteriores desde su lanzamiento\n",
            "0.0 El Círculo de Empresarios alerta de que la descentralización de las AAPP ha provocado numerosas duplicidades, y pide una reforma \"completa\" en el ámbito territorial\n",
            "0.0 La tecnológica planea prescindir de un 5% de sus alrededor de 220.000 empleados, lo que implicaría la eliminación de unos 11.000 puestos.\n",
            "0.7 El Tribunal Superior de Justicia de Andalucía cuestiona la obligación de lealtad que alegaba la compañía y defiende \"el derecho a comunicar\"\n",
            "0.02777777777777778 General Motors, Ford o Jeep anunciaron tiempo atrás que dejaban de hacer publicidad en la red social, mermando sus ingresos.\n",
            "0.0 La distribución ha amortiguado hasta 6,8 puntos del histórico encarecimiento de los precios industriales, según los cálculos de Anged\n",
            "0.0 Desde 2018, antes de la subida del SMI a 900 euros, el empleo doméstico regulado ha perdido 3.250 trabajadores\n",
            "0.0 El objetivo marcado para este año es ingresar 113.000 millones a través del IRPF, pero teniendo en cuenta la evolución durante 2022 todo indica que la cifra se quedará incluso corta\n",
            "0.0 La mayoría no acudieron a arroparlo en el auditorio y aseguran que no hubo más choque con el presidente en el Foro Económico Mundial \"porque somos gente educada\"\n",
            "0.0 La rentabilidad de las últimas semanas (cercanas al 3%) está elevando su demanda, especialmente entre particulares, ante la escasez de otras alternativas que remuneren el ahorro\n",
            "0.0 Inditex y Zara acusan a Thilikó de delitos relacionados con derechos de autor, publicidad engañosa y competencia desleal\n",
            "0.0 El traslado a Chamartín generó quejas en la Comunidad Valenciana, pues Atocha es una estación más céntrica\n",
            "0.0 El presidente del Gobierno se ve con la presidenta del Banco Santander, Pallete, Torres, Reynés e Imaz, entre otros sin hablar de impuestos\n",
            "0.0 La demanda conjunta de ambas referencias ha superado los 7.823 millones de euros. En las letras a tres meses, el tipo marginal ha sido del 2,198% y en las letras a nueve meses, del 2,839%\n",
            "0.0 La eléctrica ha cerrado el traspaso del 49% de un paquete de  1.265 MW de nueva capacidad verde valorado en 1.225 millones de euros\n",
            "0.0 El sector logra reducir la tasa de temporalidad al mínimo histórico del 8,8% gracias al uso generalizado del contrato fijo discontinuo\n",
            "0.0 Los datos del Banco de España evidencian que el pasivo público marcó también un nuevo máximo por encima de los 1,5 billones de euros\n",
            "0.0 A partir de ahora publicará cada quince días datos del mercado laboral con un nuevo método de desestacionalización\n",
            "0.0 El PIB registrado incumple el objetivo oficial del 5,5% que impuso Pekín el mes de marzo en su cónclave político anual\n",
            "0.0 La Autoridad Fiscal estima que la recaudación conjunta de ambos impuestos supera en 17.000 millones de euros la previsión del Gobierno\n",
            "0.0 Los consejeros de Hacienda niegan lo que dice la vicepresidenta a Bruselas de que ha consultado con ellos la segunda fase de los 'Next Generation'\n"
          ]
        }
      ],
      "source": [
        "for texto in nombre:\n",
        "  frase_castellano = TextBlob(texto.firstChild.data)\n",
        "  #frase_ingles = frase_castellano.translate(from_lang='es', to='en')\n",
        "  analisis = TextBlob(str(frase_castellano))\n",
        "  print(analisis.sentiment.polarity, frase_castellano)"
      ]
    }
  ],
  "metadata": {
    "colab": {
      "provenance": []
    },
    "kernelspec": {
      "display_name": "Python 3",
      "name": "python3"
    },
    "language_info": {
      "name": "python"
    }
  },
  "nbformat": 4,
  "nbformat_minor": 0
}
