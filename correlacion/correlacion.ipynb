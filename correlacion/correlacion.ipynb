{
  "nbformat": 4,
  "nbformat_minor": 0,
  "metadata": {
    "colab": {
      "provenance": []
    },
    "kernelspec": {
      "name": "python3",
      "display_name": "Python 3"
    },
    "language_info": {
      "name": "python"
    }
  },
  "cells": [
    {
      "cell_type": "code",
      "execution_count": 5,
      "metadata": {
        "colab": {
          "base_uri": "https://localhost:8080/"
        },
        "id": "Vvu9fPSTeK4L",
        "outputId": "81363f19-eb0f-41f8-f2d4-1adc000280fa"
      },
      "outputs": [
        {
          "output_type": "stream",
          "name": "stdout",
          "text": [
            "Correlación de Pearson:\n",
            "            Variable1  Variable2  Variable3\n",
            "Variable1        1.0       -1.0        1.0\n",
            "Variable2       -1.0        1.0       -1.0\n",
            "Variable3        1.0       -1.0        1.0\n",
            "Correlación de Spearman:\n",
            "            Variable1  Variable2  Variable3\n",
            "Variable1        1.0       -1.0        1.0\n",
            "Variable2       -1.0        1.0       -1.0\n",
            "Variable3        1.0       -1.0        1.0\n",
            "Correlación de Kendall:\n",
            "            Variable1  Variable2  Variable3\n",
            "Variable1        1.0       -1.0        1.0\n",
            "Variable2       -1.0        1.0       -1.0\n",
            "Variable3        1.0       -1.0        1.0\n"
          ]
        }
      ],
      "source": [
        "import pandas as pd\n",
        "\n",
        "# Supongamos que tenemos el siguiente DataFrame\n",
        "df = pd.DataFrame({\n",
        "    'Variable1': [1, 2, 3, 4, 5],\n",
        "    'Variable2': [5, 4, 3, 2, 1],\n",
        "    'Variable3': [1, 3, 5, 7, 9]\n",
        "})\n",
        "\n",
        "# Calcula la correlación de Pearson\n",
        "correlacion_pearson = df.corr(method='pearson')\n",
        "\n",
        "# Calcula la correlación de Spearman\n",
        "correlacion_spearman = df.corr(method='spearman')\n",
        "\n",
        "# Calcula la correlación de Kendall\n",
        "correlacion_kendall = df.corr(method='kendall')\n",
        "\n",
        "print(\"Correlación de Pearson:\\n\", correlacion_pearson)\n",
        "print(\"Correlación de Spearman:\\n\", correlacion_spearman)\n",
        "print(\"Correlación de Kendall:\\n\", correlacion_kendall)"
      ]
    }
  ]
}